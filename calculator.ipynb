{
 "cells": [
  {
   "cell_type": "code",
   "execution_count": 1,
   "metadata": {},
   "outputs": [],
   "source": [
    "import math"
   ]
  },
  {
   "cell_type": "code",
   "execution_count": 49,
   "metadata": {},
   "outputs": [],
   "source": [
    "class Calculator:\n",
    "    def add(self, a, b):\n",
    "        return a + b\n",
    "\n",
    "    def subtract(self, a, b):\n",
    "        return a - b\n",
    "\n",
    "    def multiply(self, a, b):\n",
    "        return a * b\n",
    "\n",
    "    def divide(self, a, b):\n",
    "        if b == 0:\n",
    "            print(\"Cannot divide by zero\")\n",
    "            return\n",
    "        return a / b"
   ]
  },
  {
   "cell_type": "code",
   "execution_count": 50,
   "metadata": {},
   "outputs": [],
   "source": [
    "class ScientificCalculator(Calculator):\n",
    "    def power(self, a, b):\n",
    "        return a ** b\n",
    "\n",
    "    def square_root(self, a):\n",
    "        if a < 0:\n",
    "            print(\"Cannot find square root of a negative number\")\n",
    "            return\n",
    "        return a ** 0.5\n",
    "    def natural_logarithm(self, a):\n",
    "        if a <= 0:\n",
    "            print(\"Input must be greater than 0 for natural logarithm\")\n",
    "            return\n",
    "        return math.log(a)\n",
    "\n",
    "    def base_10_logarithm(self, a):\n",
    "        if a <= 0:\n",
    "            print(\"Input must be greater than 0 for base-10 logarithm\")\n",
    "            return\n",
    "        return math.log10(a)\n",
    "\n",
    "    def factorial(self, n):\n",
    "        return math.factorial(n)"
   ]
  },
  {
   "cell_type": "code",
   "execution_count": 51,
   "metadata": {},
   "outputs": [],
   "source": [
    "class TrigonometricCalculator(Calculator):\n",
    "    import math\n",
    "\n",
    "    def sin(self, angle):\n",
    "        return self.math.sin(angle)\n",
    "\n",
    "    def cos(self, angle):\n",
    "        return self.math.cos(angle)\n",
    "\n",
    "    def tan(self, angle):\n",
    "        return self.math.tan(angle)\n",
    "    \n",
    "    def inverse_sin(self, x):\n",
    "        return math.asin(x)\n",
    "\n",
    "    def inverse_cos(self, x):\n",
    "        return math.acos(x)\n",
    "\n",
    "    def inverse_tan(self, x):\n",
    "        return math.atan(x)\n",
    "\n",
    "    def sinh(self, x):\n",
    "        return math.sinh(x)\n",
    "\n",
    "    def cosh(self, x):\n",
    "        return math.cosh(x)\n",
    "\n",
    "    def tanh(self, x):\n",
    "        return math.tanh(x)\n",
    "\n",
    "    def degrees_to_radians(self, deg):\n",
    "        return math.radians(deg)\n",
    "\n",
    "    def radians_to_degrees(self, rad):\n",
    "        return math.degrees(rad)"
   ]
  },
  {
   "cell_type": "code",
   "execution_count": 52,
   "metadata": {},
   "outputs": [],
   "source": [
    "trigno = TrigonometricCalculator()\n",
    "sc = ScientificCalculator()\n",
    "calc = Calculator()\n"
   ]
  },
  {
   "cell_type": "code",
   "execution_count": 53,
   "metadata": {},
   "outputs": [
    {
     "name": "stdout",
     "output_type": "stream",
     "text": [
      "1.0\n"
     ]
    }
   ],
   "source": [
    "result = calc.add(1/2,1/2)\n",
    "print(result)\n",
    "\n"
   ]
  },
  {
   "cell_type": "code",
   "execution_count": 54,
   "metadata": {},
   "outputs": [
    {
     "ename": "ValueError",
     "evalue": "factorial() not defined for negative values",
     "output_type": "error",
     "traceback": [
      "\u001b[1;31m---------------------------------------------------------------------------\u001b[0m",
      "\u001b[1;31mValueError\u001b[0m                                Traceback (most recent call last)",
      "Cell \u001b[1;32mIn[54], line 1\u001b[0m\n\u001b[1;32m----> 1\u001b[0m r2 \u001b[38;5;241m=\u001b[39m \u001b[43msc\u001b[49m\u001b[38;5;241;43m.\u001b[39;49m\u001b[43mfactorial\u001b[49m\u001b[43m(\u001b[49m\u001b[38;5;241;43m-\u001b[39;49m\u001b[38;5;241;43m10\u001b[39;49m\u001b[43m)\u001b[49m\n\u001b[0;32m      2\u001b[0m \u001b[38;5;28mprint\u001b[39m(r2)\n",
      "Cell \u001b[1;32mIn[50], line 23\u001b[0m, in \u001b[0;36mScientificCalculator.factorial\u001b[1;34m(self, n)\u001b[0m\n\u001b[0;32m     22\u001b[0m \u001b[38;5;28;01mdef\u001b[39;00m \u001b[38;5;21mfactorial\u001b[39m(\u001b[38;5;28mself\u001b[39m, n):\n\u001b[1;32m---> 23\u001b[0m     \u001b[38;5;28;01mreturn\u001b[39;00m \u001b[43mmath\u001b[49m\u001b[38;5;241;43m.\u001b[39;49m\u001b[43mfactorial\u001b[49m\u001b[43m(\u001b[49m\u001b[43mn\u001b[49m\u001b[43m)\u001b[49m\n",
      "\u001b[1;31mValueError\u001b[0m: factorial() not defined for negative values"
     ]
    }
   ],
   "source": [
    "r2 = sc.factorial(-10)\n",
    "print(r2)"
   ]
  },
  {
   "cell_type": "code",
   "execution_count": 68,
   "metadata": {},
   "outputs": [
    {
     "name": "stdout",
     "output_type": "stream",
     "text": [
      "Input must be greater than 0 for natural logarithm\n",
      "None\n"
     ]
    }
   ],
   "source": [
    "r2 = sc.natural_logarithm(-10)\n",
    "print(r2)"
   ]
  },
  {
   "cell_type": "code",
   "execution_count": 69,
   "metadata": {},
   "outputs": [
    {
     "name": "stdout",
     "output_type": "stream",
     "text": [
      "Input must be greater than 0 for base-10 logarithm\n",
      "None\n"
     ]
    }
   ],
   "source": [
    "r2 = sc.base_10_logarithm(-10)\n",
    "print(r2)"
   ]
  },
  {
   "cell_type": "code",
   "execution_count": 70,
   "metadata": {},
   "outputs": [
    {
     "ename": "ValueError",
     "evalue": "math domain error",
     "output_type": "error",
     "traceback": [
      "\u001b[1;31m---------------------------------------------------------------------------\u001b[0m",
      "\u001b[1;31mValueError\u001b[0m                                Traceback (most recent call last)",
      "Cell \u001b[1;32mIn[70], line 2\u001b[0m\n\u001b[0;32m      1\u001b[0m p \u001b[38;5;241m=\u001b[39m math\u001b[38;5;241m.\u001b[39mpi\n\u001b[1;32m----> 2\u001b[0m r3 \u001b[38;5;241m=\u001b[39m \u001b[43mtrigno\u001b[49m\u001b[38;5;241;43m.\u001b[39;49m\u001b[43minverse_sin\u001b[49m\u001b[43m(\u001b[49m\u001b[38;5;241;43m2\u001b[39;49m\u001b[43m)\u001b[49m\n\u001b[0;32m      3\u001b[0m \u001b[38;5;28mprint\u001b[39m(r3)\n",
      "Cell \u001b[1;32mIn[51], line 14\u001b[0m, in \u001b[0;36mTrigonometricCalculator.inverse_sin\u001b[1;34m(self, x)\u001b[0m\n\u001b[0;32m     13\u001b[0m \u001b[38;5;28;01mdef\u001b[39;00m \u001b[38;5;21minverse_sin\u001b[39m(\u001b[38;5;28mself\u001b[39m, x):\n\u001b[1;32m---> 14\u001b[0m     \u001b[38;5;28;01mreturn\u001b[39;00m \u001b[43mmath\u001b[49m\u001b[38;5;241;43m.\u001b[39;49m\u001b[43masin\u001b[49m\u001b[43m(\u001b[49m\u001b[43mx\u001b[49m\u001b[43m)\u001b[49m\n",
      "\u001b[1;31mValueError\u001b[0m: math domain error"
     ]
    }
   ],
   "source": [
    "p = math.pi\n",
    "r3 = trigno.inverse_sin(2)\n",
    "print(r3)"
   ]
  },
  {
   "cell_type": "code",
   "execution_count": 72,
   "metadata": {},
   "outputs": [
    {
     "ename": "ValueError",
     "evalue": "math domain error",
     "output_type": "error",
     "traceback": [
      "\u001b[1;31m---------------------------------------------------------------------------\u001b[0m",
      "\u001b[1;31mValueError\u001b[0m                                Traceback (most recent call last)",
      "Cell \u001b[1;32mIn[72], line 2\u001b[0m\n\u001b[0;32m      1\u001b[0m p \u001b[38;5;241m=\u001b[39m math\u001b[38;5;241m.\u001b[39mpi\n\u001b[1;32m----> 2\u001b[0m r3 \u001b[38;5;241m=\u001b[39m \u001b[43mtrigno\u001b[49m\u001b[38;5;241;43m.\u001b[39;49m\u001b[43minverse_sin\u001b[49m\u001b[43m(\u001b[49m\u001b[38;5;241;43m-\u001b[39;49m\u001b[38;5;241;43m2\u001b[39;49m\u001b[43m)\u001b[49m\n\u001b[0;32m      3\u001b[0m \u001b[38;5;28mprint\u001b[39m(r3)\n",
      "Cell \u001b[1;32mIn[51], line 14\u001b[0m, in \u001b[0;36mTrigonometricCalculator.inverse_sin\u001b[1;34m(self, x)\u001b[0m\n\u001b[0;32m     13\u001b[0m \u001b[38;5;28;01mdef\u001b[39;00m \u001b[38;5;21minverse_sin\u001b[39m(\u001b[38;5;28mself\u001b[39m, x):\n\u001b[1;32m---> 14\u001b[0m     \u001b[38;5;28;01mreturn\u001b[39;00m \u001b[43mmath\u001b[49m\u001b[38;5;241;43m.\u001b[39;49m\u001b[43masin\u001b[49m\u001b[43m(\u001b[49m\u001b[43mx\u001b[49m\u001b[43m)\u001b[49m\n",
      "\u001b[1;31mValueError\u001b[0m: math domain error"
     ]
    }
   ],
   "source": [
    "p = math.pi\n",
    "r3 = trigno.inverse_sin(-2)\n",
    "print(r3)"
   ]
  },
  {
   "cell_type": "code",
   "execution_count": null,
   "metadata": {},
   "outputs": [],
   "source": []
  }
 ],
 "metadata": {
  "kernelspec": {
   "display_name": "Python 3",
   "language": "python",
   "name": "python3"
  },
  "language_info": {
   "codemirror_mode": {
    "name": "ipython",
    "version": 3
   },
   "file_extension": ".py",
   "mimetype": "text/x-python",
   "name": "python",
   "nbconvert_exporter": "python",
   "pygments_lexer": "ipython3",
   "version": "3.12.2"
  }
 },
 "nbformat": 4,
 "nbformat_minor": 2
}
